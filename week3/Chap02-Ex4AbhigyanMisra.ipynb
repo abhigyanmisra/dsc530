{
 "cells": [
  {
   "cell_type": "markdown",
   "metadata": {},
   "source": [
    "Exercise 2-4\n",
    "Abhigyan Misra\n",
    "Date  : 09/16/2020"
   ]
  },
  {
   "cell_type": "code",
   "execution_count": 20,
   "metadata": {},
   "outputs": [],
   "source": [
    "from __future__ import print_function, division\n",
    "import numpy as np\n",
    "\n",
    "import nsfg\n",
    "import first"
   ]
  },
  {
   "cell_type": "raw",
   "metadata": {},
   "source": [
    "## Reading the pregnancy file. \n",
    "## Filtering with records for live birth"
   ]
  },
  {
   "cell_type": "code",
   "execution_count": 21,
   "metadata": {},
   "outputs": [],
   "source": [
    "preg = nsfg.ReadFemPreg()\n",
    "live = preg[preg.outcome == 1]"
   ]
  },
  {
   "cell_type": "code",
   "execution_count": 22,
   "metadata": {
    "scrolled": true
   },
   "outputs": [
    {
     "name": "stdout",
     "output_type": "stream",
     "text": [
      "Mean Firsts: 7.201094430437772\n",
      "Mean Other: 7.325855614973262\n",
      "%age Diff: -1.7171423678372415\n",
      "Cohens D: -0.088672927072602  Times(SD in lbs):  1.4082934455690168\n"
     ]
    }
   ],
   "source": [
    "# Filtering First Baby and All Other Babies\n",
    "firsts = live[live.birthord == 1]\n",
    "others = live[live.birthord != 1]\n",
    "\n",
    "# Calculating mean values for each group\n",
    "meanfirsts = firsts.totalwgt_lb.mean()\n",
    "meanother = others.totalwgt_lb.mean()\n",
    "\n",
    "# Calculcating Total Mean and Stndard Deviation for reference\n",
    "totalsd = live.totalwgt_lb.std()\n",
    "totalmean = live.totalwgt_lb.mean()\n",
    "\n",
    "print(\"Mean Firsts:\", meanfirsts)\n",
    "print(\"Mean Other:\", meanother)\n",
    "print(\"%age Diff:\", (100*(meanfirsts-meanother)/totalmean))\n",
    "\n",
    "# Calculating Cohen's D Value - d\n",
    "diff = meanfirsts - meanother\n",
    "var1 = firsts.totalwgt_lb.var()\n",
    "var2 = others.totalwgt_lb.var()\n",
    "n1, n2 = len(firsts), len(others)\n",
    "pooled_var = (n1 * var1 + n2 * var2) / (n1 + n2)\n",
    "d = diff / np.sqrt(pooled_var)\n",
    "\n",
    "print(\"Cohens D:\",d,\" Times(SD in lbs): \",totalsd)\n"
   ]
  },
  {
   "cell_type": "markdown",
   "metadata": {},
   "source": [
    "Means for First Babies are lesser than others. approx 1.7%\n",
    "Based on Conhen's D Value, since the value is -0.089 approx, using which we can somewhat say first babies are slightly lighter.\n",
    "Compared to preglength example, this Cohen's D Value is 3 times approx. However still the values has very minimal difference. If going by Rule of Thumb any value less around +/- 0.2, are considered very small difference."
   ]
  },
  {
   "cell_type": "code",
   "execution_count": 40,
   "metadata": {},
   "outputs": [
    {
     "data": {
      "image/png": "[encoded data removed]",
      "text/plain": [
       "<Figure size 432x288 with 1 Axes>"
      ]
     },
     "metadata": {
      "needs_background": "light"
     },
     "output_type": "display_data"
    },
    {
     "data": {
      "text/plain": [
       "<Figure size 576x432 with 0 Axes>"
      ]
     },
     "metadata": {},
     "output_type": "display_data"
    }
   ],
   "source": [
    "# Plotting and Checking with Histogram too, to see if there is shift of population\n",
    "import thinkstats2\n",
    "import thinkplot\n",
    "\n",
    "first_hist = thinkstats2.Hist(firsts.totalwgt_lb)\n",
    "other_hist = thinkstats2.Hist(others.totalwgt_lb)\n",
    "width = 0.02\n",
    "thinkplot.PrePlot(2)\n",
    "thinkplot.Hist(first_hist,align = 'right', width=width, color = 'RED', label = 'First')\n",
    "thinkplot.Hist(other_hist,align = 'left', width=width, color = 'GREEN', label = 'Other')\n",
    "thinkplot.Show(xlabel='lbs', ylabel = 'frequency')"
   ]
  },
  {
   "cell_type": "markdown",
   "metadata": {},
   "source": [
    "Histogram cannot confirm whether the first babies are lighter."
   ]
  }
 ],
 "metadata": {
  "kernelspec": {
   "display_name": "Python 3",
   "language": "python",
   "name": "python3"
  },
  "language_info": {
   "codemirror_mode": {
    "name": "ipython",
    "version": 3
   },
   "file_extension": ".py",
   "mimetype": "text/x-python",
   "name": "python",
   "nbconvert_exporter": "python",
   "pygments_lexer": "ipython3",
   "version": "3.8.3"
  }
 },
 "nbformat": 4,
 "nbformat_minor": 4
}
